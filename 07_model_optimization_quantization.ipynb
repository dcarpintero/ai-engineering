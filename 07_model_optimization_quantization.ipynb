{
  "cells": [
    {
      "cell_type": "markdown",
      "metadata": {},
      "source": [
        "## Quantization, Making Models Smaller and Inference Faster"
      ]
    },
    {
      "cell_type": "markdown",
      "metadata": {},
      "source": [
        "Quantization is a technique used in the optimization of large language models (LLMs). It reduces the precision of the model's parameters, effectively shrinking its size and computational requirements, while aiming to maintain its performance. The main approaches to quantization are:\n",
        "\n",
        "- **Post-Training Static Quantization (PTQ Static)**: Converts at least model weights to a lower precision (e.g., from 32-bit floating-point to 8-bit integer) before inference. Converting also activations requires a calibration set to determine the optimal quantization parameters: scale and zero-point.\n",
        "\n",
        "- **Post-Training Dynamic Quantization (PTQ Dynamic)**:  Quantizes typically the weights of linear layers in advance but activations are dynamically quantized during inference. Unlike static quantization, this method doesn't require a separate calibration step, making it more flexible in deployment. Although it's slightly slower than static quantization (the activations are read and written to memory in floating point format), it often preserves more of the model's original accuracy.\n",
        "\n",
        "- **Quantization-Aware Training (QAT)**: Applies additional training to simulate the effects of quantization by rounding float32 values. This allows the model to learn (update the model parameters) to minimize the final loss when applying quantization. As a result, it generally achieves the best balance of model size reduction and accuracy preservation. However, it comes with the drawback of requiring a complete retraining of the model (end-to-end forward/backward propagation)."
      ]
    },
    {
      "cell_type": "markdown",
      "metadata": {},
      "source": [
        "The intuition behind Quantization is that we can discretize floating-point values by mapping their range [`f_max`, `f_min`] into a smaller range of fixed-point numbers [`q_max`, `q_min`], and linearly distributing all values between these ranges. In practice, this typically reduces the precision of a 32-bit floating-point to lower bit widths like 8-bits (scalar quantization) or 1-bit values (binary quantization):"
      ]
    },
    {
      "cell_type": "markdown",
      "metadata": {},
      "source": [
        "<p align=\"center\">\n",
        "  <img src=\"./static/model_quantization.png\">\n",
        "</p>"
      ]
    },
    {
      "cell_type": "markdown",
      "metadata": {},
      "source": [
        "In this notebook, we introduce how quantization works specifically for LLMs, demonstrating its practical implementation (PTQ Dynamic) and benchmarking in terms of model size, inference latency, and accuracy."
      ]
    },
    {
      "cell_type": "code",
      "execution_count": null,
      "metadata": {},
      "outputs": [],
      "source": [
        "%pip install transformers datasets evaluate --quiet | tail -n 1"
      ]
    },
    {
      "cell_type": "markdown",
      "metadata": {},
      "source": [
        "### 1. Load BERT Transformer Model"
      ]
    },
    {
      "cell_type": "markdown",
      "metadata": {},
      "source": [
        "We use a BERT-base model that has been fine-tuned for intent classification using the [clinc dataset](https://huggingface.co/datasets/clinc/clinc_oos):"
      ]
    },
    {
      "cell_type": "code",
      "execution_count": 41,
      "metadata": {
        "id": "-PC1iVAfy-t2"
      },
      "outputs": [
        {
          "name": "stderr",
          "output_type": "stream",
          "text": [
            "/usr/local/python/3.10.13/lib/python3.10/site-packages/transformers/tokenization_utils_base.py:1601: FutureWarning: `clean_up_tokenization_spaces` was not set. It will be set to `True` by default. This behavior will be depracted in transformers v4.45, and will be then set to `False` by default. For more details check this issue: https://github.com/huggingface/transformers/issues/31884\n",
            "  warnings.warn(\n"
          ]
        }
      ],
      "source": [
        "from transformers import pipeline\n",
        "\n",
        "bert_ckpt = \"transformersbook/bert-base-uncased-finetuned-clinc\"\n",
        "pipe = pipeline(\"text-classification\", model=bert_ckpt)"
      ]
    },
    {
      "cell_type": "code",
      "execution_count": 42,
      "metadata": {
        "colab": {
          "base_uri": "https://localhost:8080/"
        },
        "id": "mAFufxfwzQOl",
        "outputId": "97884679-49dd-4dc5-c72b-502cdb71be2d"
      },
      "outputs": [
        {
          "data": {
            "text/plain": [
              "[{'label': 'book_flight', 'score': 0.5934060215950012}]"
            ]
          },
          "execution_count": 42,
          "metadata": {},
          "output_type": "execute_result"
        }
      ],
      "source": [
        "query = \"\"\"I need to book a flight from New York to Tokyo for next month in economy class\"\"\"\n",
        "pipe(query)"
      ]
    },
    {
      "cell_type": "markdown",
      "metadata": {},
      "source": [
        "#### 1.1 Model Architecture\n",
        "\n",
        "This BERT-based model is an encoder-only transformer composed of a stack of 12 layers. Note that each layer implements a self-attention mechanism (query, key, value linear transformations):"
      ]
    },
    {
      "cell_type": "code",
      "execution_count": 44,
      "metadata": {},
      "outputs": [
        {
          "data": {
            "text/plain": [
              "BertForSequenceClassification(\n",
              "  (bert): BertModel(\n",
              "    (embeddings): BertEmbeddings(\n",
              "      (word_embeddings): Embedding(30522, 768, padding_idx=0)\n",
              "      (position_embeddings): Embedding(512, 768)\n",
              "      (token_type_embeddings): Embedding(2, 768)\n",
              "      (LayerNorm): LayerNorm((768,), eps=1e-12, elementwise_affine=True)\n",
              "      (dropout): Dropout(p=0.1, inplace=False)\n",
              "    )\n",
              "    (encoder): BertEncoder(\n",
              "      (layer): ModuleList(\n",
              "        (0-11): 12 x BertLayer(\n",
              "          (attention): BertAttention(\n",
              "            (self): BertSdpaSelfAttention(\n",
              "              (query): Linear(in_features=768, out_features=768, bias=True)\n",
              "              (key): Linear(in_features=768, out_features=768, bias=True)\n",
              "              (value): Linear(in_features=768, out_features=768, bias=True)\n",
              "              (dropout): Dropout(p=0.1, inplace=False)\n",
              "            )\n",
              "            (output): BertSelfOutput(\n",
              "              (dense): Linear(in_features=768, out_features=768, bias=True)\n",
              "              (LayerNorm): LayerNorm((768,), eps=1e-12, elementwise_affine=True)\n",
              "              (dropout): Dropout(p=0.1, inplace=False)\n",
              "            )\n",
              "          )\n",
              "          (intermediate): BertIntermediate(\n",
              "            (dense): Linear(in_features=768, out_features=3072, bias=True)\n",
              "            (intermediate_act_fn): GELUActivation()\n",
              "          )\n",
              "          (output): BertOutput(\n",
              "            (dense): Linear(in_features=3072, out_features=768, bias=True)\n",
              "            (LayerNorm): LayerNorm((768,), eps=1e-12, elementwise_affine=True)\n",
              "            (dropout): Dropout(p=0.1, inplace=False)\n",
              "          )\n",
              "        )\n",
              "      )\n",
              "    )\n",
              "    (pooler): BertPooler(\n",
              "      (dense): Linear(in_features=768, out_features=768, bias=True)\n",
              "      (activation): Tanh()\n",
              "    )\n",
              "  )\n",
              "  (dropout): Dropout(p=0.1, inplace=False)\n",
              "  (classifier): Linear(in_features=768, out_features=151, bias=True)\n",
              ")"
            ]
          },
          "execution_count": 44,
          "metadata": {},
          "output_type": "execute_result"
        }
      ],
      "source": [
        "model = AutoModelForSequenceClassification.from_pretrained(model_ckpt).to(\"cpu\")\n",
        "model"
      ]
    },
    {
      "cell_type": "markdown",
      "metadata": {},
      "source": [
        "#### 1.2 Weight Distribution in Query Attention Layer"
      ]
    },
    {
      "cell_type": "markdown",
      "metadata": {},
      "source": [
        "By plotting the frequency distribution of the weights in an exemplary attention layer, we observe that the values are indeed concentrated around a relatively narrow range [-0.522441, +0.454290]. This means we can effectively map float32 values to 256 int8 buckets without significant loss of information:"
      ]
    },
    {
      "cell_type": "code",
      "execution_count": null,
      "metadata": {},
      "outputs": [
        {
          "name": "stdout",
          "output_type": "stream",
          "text": [
            "model.bert.encoder.layer[0].attention.self.query.weight:\n",
            "Min: -0.522441, Max: 0.454290\n"
          ]
        },
        {
          "data": {
            "image/png": "[encoded data removed]",
            "text/plain": [
              "<Figure size 800x400 with 1 Axes>"
            ]
          },
          "metadata": {},
          "output_type": "display_data"
        }
      ],
      "source": [
        "import matplotlib.pyplot as plt\n",
        "import seaborn as sns\n",
        "import numpy as np\n",
        "\n",
        "def weights_distribution(model, layer_name):\n",
        "    weights = model.bert.encoder.layer[0].attention.self.query.weight\n",
        "    weights = weights.flatten().detach().cpu().numpy()\n",
        "\n",
        "    print(\"model.bert.encoder.layer[0].attention.self.query.weight:\")\n",
        "    print(f\"Min: {weights.min():.6f}, Max: {weights.max():.6f}\")\n",
        "    \n",
        "    plt.figure(figsize=(8, 4))\n",
        "    sns.histplot(weights, kde=True, bins=100)\n",
        "    plt.title(f'Unquantized Weights Distribution in {layer_name}')\n",
        "    plt.xlabel('Weight Value')\n",
        "    plt.ylabel('Frequency')\n",
        "    plt.tight_layout()\n",
        "    plt.show()\n",
        "\n",
        "weights_distribution(model, \"bert.encoder.layer[0].attention.query\")"
      ]
    },
    {
      "cell_type": "markdown",
      "metadata": {
        "id": "g1p8BkZYzqk-"
      },
      "source": [
        "### 2. Prepare Performance Benchmark: Size, Latency, and Accuracy"
      ]
    },
    {
      "cell_type": "markdown",
      "metadata": {},
      "source": [
        "In this section, we'll create a benchmark to evaluate a model across three key metrics: model performance, latency, and size. **Model performance** will be assessed using accuracy. **Latency** will be measured as the average time taken to generate responses. And **Model size** will be quantified in terms of the number of parameters and the disk space required for storage. By combining these metrics, we aim at allowing informed comparisons and trade-off analyses between a baseline model before and after quantization."
      ]
    },
    {
      "cell_type": "code",
      "execution_count": 49,
      "metadata": {
        "id": "mNCfADkVzgl-"
      },
      "outputs": [],
      "source": [
        "import evaluate\n",
        "import torch\n",
        "import numpy as np\n",
        "\n",
        "from pathlib import Path\n",
        "from time import perf_counter\n",
        "from typing import Dict, Any\n",
        "\n",
        "class PerformanceBenchmark:\n",
        "    def __init__(self, pipeline, dataset, optim_type=\"BERT Baseline\", num_latency_runs=100, accuracy_sample_size=None):\n",
        "        self.pipeline = pipeline\n",
        "        self.dataset = dataset\n",
        "        self.optim_type = optim_type\n",
        "        self.num_latency_runs = num_latency_runs\n",
        "        self.accuracy_sample_size = accuracy_sample_size\n",
        "\n",
        "    def compute_size(self) -> Dict[str, float]:\n",
        "      \"\"\"Compute the size of the model (MB).\"\"\"\n",
        "      tpm_path = Path(\"temp.p\")\n",
        "      torch.save(self.pipeline.model.state_dict(), tpm_path)\n",
        "      size_mb = Path(tpm_path).stat().st_size / (1024 ** 2)\n",
        "      tpm_path.unlink()\n",
        "      return {\"size_mb\": size_mb}\n",
        "\n",
        "    def compute_latency(self) -> Dict[str, float]:\n",
        "      \"\"\"Compute the average latency of the model.\"\"\"\n",
        "      latencies = [self._inference_time() for _ in range(self.num_latency_runs)]\n",
        "      time_avg_ms = 1000 * np.mean(latencies)\n",
        "      time_std_ms = 1000 * np.std(latencies)\n",
        "      return {\"time_avg_ms\": time_avg_ms, \"time_std_ms\": time_std_ms}\n",
        "\n",
        "    def compute_accuracy(self) -> Dict[str, float]:\n",
        "      \"\"\"Compute the accuracy of the model on the dataset.\"\"\"\n",
        "      accuracy_metric = evaluate.load(\"accuracy\")\n",
        "      intents = self.dataset.features[\"intent\"]\n",
        "        \n",
        "      dataset = self.dataset\n",
        "      if self.accuracy_sample_size:\n",
        "          dataset = self.dataset.select(range(self.accuracy_sample_size))\n",
        "\n",
        "      x = [_[\"text\"] for _ in dataset]\n",
        "      y = [_[\"intent\"] for _ in dataset]\n",
        "\n",
        "      preds = [intents.str2int(self._predict(text)) for text in x]\n",
        "      return accuracy_metric.compute(predictions=preds, references=y)\n",
        "    \n",
        "    def run_benchmark(self):\n",
        "      metrics = {self.optim_type: {}}\n",
        "      metrics[self.optim_type].update(self.compute_size())\n",
        "      metrics[self.optim_type].update(self.compute_latency())\n",
        "      metrics[self.optim_type].update(self.compute_accuracy())\n",
        "      self._print(metrics[self.optim_type])\n",
        "      return metrics\n",
        "\n",
        "    def _inference_time(self) -> float:\n",
        "      t1 = perf_counter()\n",
        "      _ = self.pipeline(self.dataset[42][\"text\"]) # we use always the same sample\n",
        "      t2 = perf_counter()\n",
        "      return t2 - t1\n",
        "\n",
        "    def _predict(self, text: str) -> str:\n",
        "      return self.pipeline(text)[0][\"label\"]\n",
        "    \n",
        "    @staticmethod\n",
        "    def _print(metrics: Dict[str, Any]) -> None:\n",
        "      print(f\"Model size (MB): {metrics['size_mb']:.2f}\")\n",
        "      print(f\"Average latency (ms): {metrics['time_avg_ms']:.2f} ± {metrics['time_std_ms']:.2f}\")\n",
        "      print(f\"Accuracy on test set: {metrics['accuracy']:.3f}\")"
      ]
    },
    {
      "cell_type": "markdown",
      "metadata": {},
      "source": [
        "### 3. Evaluate Model before Quantization"
      ]
    },
    {
      "cell_type": "markdown",
      "metadata": {},
      "source": [
        "We use the [clinc_oos](https://huggingface.co/datasets/clinc/clinc_oos) dataset:"
      ]
    },
    {
      "cell_type": "code",
      "execution_count": 51,
      "metadata": {
        "colab": {
          "base_uri": "https://localhost:8080/"
        },
        "id": "sWG1n0Lh1be9",
        "outputId": "98cef2fb-da37-4b3c-f926-091d7bcace0a"
      },
      "outputs": [
        {
          "data": {
            "text/plain": [
              "{'text': 'transfer $100 from my checking to saving account', 'intent': 133}"
            ]
          },
          "execution_count": 51,
          "metadata": {},
          "output_type": "execute_result"
        }
      ],
      "source": [
        "from datasets import load_dataset\n",
        "\n",
        "clinc = load_dataset(\"clinc_oos\", \"plus\")\n",
        "sample = clinc[\"test\"][42]\n",
        "sample"
      ]
    },
    {
      "cell_type": "markdown",
      "metadata": {},
      "source": [
        "And run the benchmark:"
      ]
    },
    {
      "cell_type": "code",
      "execution_count": null,
      "metadata": {
        "colab": {
          "base_uri": "https://localhost:8080/"
        },
        "id": "WvYlkMnt6P0w",
        "outputId": "a0ae7d1d-cb2b-4846-a178-a6422c811e11"
      },
      "outputs": [
        {
          "name": "stdout",
          "output_type": "stream",
          "text": [
            "Model size (MB): 418.15\n",
            "Average latency (ms): 64.76 ± 5.02\n",
            "Accuracy on test set: 0.867\n"
          ]
        }
      ],
      "source": [
        "pb = PerformanceBenchmark(pipe, clinc[\"test\"])\n",
        "perf_metrics = pb.run_benchmark()"
      ]
    },
    {
      "cell_type": "markdown",
      "metadata": {
        "id": "jvR9jp73UOH5"
      },
      "source": [
        "### 4. Dynamic Quantization w/ PyTorch"
      ]
    },
    {
      "cell_type": "markdown",
      "metadata": {},
      "source": [
        "We call `torch.quantization.quantize_dynamic` on the model to apply dynamic quantization on this BERT model. Specifically, we specify that we want the `torch.nn.Linear` modules in our model to be quantized; and the weights to be converted to `quantized int8` values."
      ]
    },
    {
      "cell_type": "code",
      "execution_count": null,
      "metadata": {
        "id": "4US3qY6ClCdF"
      },
      "outputs": [],
      "source": [
        "from transformers import AutoModelForSequenceClassification\n",
        "from torch.quantization import quantize_dynamic\n",
        "\n",
        "model_ckpt = \"transformersbook/bert-base-uncased-finetuned-clinc\"\n",
        "model = AutoModelForSequenceClassification.from_pretrained(model_ckpt).to(\"cpu\")\n",
        "\n",
        "model_ptq_dynamic = quantize_dynamic(\n",
        "    model, qconfig_spec={torch.nn.Linear}, dtype=torch.qint8\n",
        ")"
      ]
    },
    {
      "cell_type": "markdown",
      "metadata": {},
      "source": [
        "#### 4.1 Quantization Analysis"
      ]
    },
    {
      "cell_type": "markdown",
      "metadata": {},
      "source": [
        "##### 4.1.1 Architecture"
      ]
    },
    {
      "cell_type": "markdown",
      "metadata": {},
      "source": [
        "The linear layers are now `DynamicQuantized` layers, whereas the embedding and normalization layers are as expected not included in the quantization:"
      ]
    },
    {
      "cell_type": "code",
      "execution_count": null,
      "metadata": {},
      "outputs": [
        {
          "data": {
            "text/plain": [
              "BertForSequenceClassification(\n",
              "  (bert): BertModel(\n",
              "    (embeddings): BertEmbeddings(\n",
              "      (word_embeddings): Embedding(30522, 768, padding_idx=0)\n",
              "      (position_embeddings): Embedding(512, 768)\n",
              "      (token_type_embeddings): Embedding(2, 768)\n",
              "      (LayerNorm): LayerNorm((768,), eps=1e-12, elementwise_affine=True)\n",
              "      (dropout): Dropout(p=0.1, inplace=False)\n",
              "    )\n",
              "    (encoder): BertEncoder(\n",
              "      (layer): ModuleList(\n",
              "        (0-11): 12 x BertLayer(\n",
              "          (attention): BertAttention(\n",
              "            (self): BertSdpaSelfAttention(\n",
              "              (query): DynamicQuantizedLinear(in_features=768, out_features=768, dtype=torch.qint8, qscheme=torch.per_tensor_affine)\n",
              "              (key): DynamicQuantizedLinear(in_features=768, out_features=768, dtype=torch.qint8, qscheme=torch.per_tensor_affine)\n",
              "              (value): DynamicQuantizedLinear(in_features=768, out_features=768, dtype=torch.qint8, qscheme=torch.per_tensor_affine)\n",
              "              (dropout): Dropout(p=0.1, inplace=False)\n",
              "            )\n",
              "            (output): BertSelfOutput(\n",
              "              (dense): DynamicQuantizedLinear(in_features=768, out_features=768, dtype=torch.qint8, qscheme=torch.per_tensor_affine)\n",
              "              (LayerNorm): LayerNorm((768,), eps=1e-12, elementwise_affine=True)\n",
              "              (dropout): Dropout(p=0.1, inplace=False)\n",
              "            )\n",
              "          )\n",
              "          (intermediate): BertIntermediate(\n",
              "            (dense): DynamicQuantizedLinear(in_features=768, out_features=3072, dtype=torch.qint8, qscheme=torch.per_tensor_affine)\n",
              "            (intermediate_act_fn): GELUActivation()\n",
              "          )\n",
              "          (output): BertOutput(\n",
              "            (dense): DynamicQuantizedLinear(in_features=3072, out_features=768, dtype=torch.qint8, qscheme=torch.per_tensor_affine)\n",
              "            (LayerNorm): LayerNorm((768,), eps=1e-12, elementwise_affine=True)\n",
              "            (dropout): Dropout(p=0.1, inplace=False)\n",
              "          )\n",
              "        )\n",
              "      )\n",
              "    )\n",
              "    (pooler): BertPooler(\n",
              "      (dense): DynamicQuantizedLinear(in_features=768, out_features=768, dtype=torch.qint8, qscheme=torch.per_tensor_affine)\n",
              "      (activation): Tanh()\n",
              "    )\n",
              "  )\n",
              "  (dropout): Dropout(p=0.1, inplace=False)\n",
              "  (classifier): DynamicQuantizedLinear(in_features=768, out_features=151, dtype=torch.qint8, qscheme=torch.per_tensor_affine)\n",
              ")"
            ]
          },
          "execution_count": 11,
          "metadata": {},
          "output_type": "execute_result"
        }
      ],
      "source": [
        "model_ptq_dynamic"
      ]
    },
    {
      "cell_type": "markdown",
      "metadata": {},
      "source": [
        "The tensor is now quantized in `qint8` format using the `per_tensor_affine` schema (see the scale factor and zero point). The weight values we can see are dequantized values, namely the floating-point equivalents to `int8`:"
      ]
    },
    {
      "cell_type": "code",
      "execution_count": null,
      "metadata": {},
      "outputs": [
        {
          "data": {
            "text/plain": [
              "tensor([[-0.0164,  0.0246, -0.0246,  ...,  0.0164,  0.0779,  0.0574],\n",
              "        [-0.0328,  0.0328, -0.0410,  ..., -0.0533,  0.1393,  0.0082],\n",
              "        [ 0.0082,  0.0328,  0.0123,  ..., -0.0287,  0.0246, -0.0451],\n",
              "        ...,\n",
              "        [-0.0082,  0.0492,  0.0533,  ...,  0.0287,  0.0533, -0.0533],\n",
              "        [-0.0205,  0.0942,  0.0615,  ..., -0.1024,  0.0615,  0.0451],\n",
              "        [ 0.0041, -0.0983,  0.0082,  ..., -0.0164, -0.0492, -0.0082]],\n",
              "       size=(768, 768), dtype=torch.qint8,\n",
              "       quantization_scheme=torch.per_tensor_affine, scale=0.004097579047083855,\n",
              "       zero_point=0)"
            ]
          },
          "execution_count": 23,
          "metadata": {},
          "output_type": "execute_result"
        }
      ],
      "source": [
        "qweights = model_ptq_dynamic.bert.encoder.layer[0].attention.self.query.weight()\n",
        "qweights"
      ]
    },
    {
      "cell_type": "markdown",
      "metadata": {},
      "source": [
        "Note the quantization error when comparing those values with the original model weights:"
      ]
    },
    {
      "cell_type": "code",
      "execution_count": null,
      "metadata": {},
      "outputs": [
        {
          "data": {
            "text/plain": [
              "Parameter containing:\n",
              "tensor([[-0.0169,  0.0253, -0.0261,  ...,  0.0155,  0.0769,  0.0554],\n",
              "        [-0.0324,  0.0346, -0.0428,  ..., -0.0525,  0.1400,  0.0072],\n",
              "        [ 0.0095,  0.0334,  0.0114,  ..., -0.0281,  0.0248, -0.0457],\n",
              "        ...,\n",
              "        [-0.0079,  0.0508,  0.0552,  ...,  0.0296,  0.0543, -0.0531],\n",
              "        [-0.0193,  0.0950,  0.0622,  ..., -0.1041,  0.0602,  0.0463],\n",
              "        [ 0.0021, -0.0966,  0.0081,  ..., -0.0180, -0.0508, -0.0075]],\n",
              "       requires_grad=True)"
            ]
          },
          "execution_count": 25,
          "metadata": {},
          "output_type": "execute_result"
        }
      ],
      "source": [
        "model.bert.encoder.layer[0].attention.self.query.weight"
      ]
    },
    {
      "cell_type": "markdown",
      "metadata": {},
      "source": [
        "We can also get the actual quantized integer values as stored in 8-bit integer format:"
      ]
    },
    {
      "cell_type": "code",
      "execution_count": null,
      "metadata": {},
      "outputs": [
        {
          "data": {
            "text/plain": [
              "tensor([[ -4,   6,  -6,  ...,   4,  19,  14],\n",
              "        [ -8,   8, -10,  ..., -13,  34,   2],\n",
              "        [  2,   8,   3,  ...,  -7,   6, -11],\n",
              "        ...,\n",
              "        [ -2,  12,  13,  ...,   7,  13, -13],\n",
              "        [ -5,  23,  15,  ..., -25,  15,  11],\n",
              "        [  1, -24,   2,  ...,  -4, -12,  -2]], dtype=torch.int8)"
            ]
          },
          "execution_count": 24,
          "metadata": {},
          "output_type": "execute_result"
        }
      ],
      "source": [
        "qweights.int_repr()"
      ]
    },
    {
      "cell_type": "markdown",
      "metadata": {},
      "source": [
        "Furthermore, by applying `(quantized_value - zero_point) * scale`, we can manually dequantize this internal `int8` representation, the values correspond as expected to those provided by PyTorch:"
      ]
    },
    {
      "cell_type": "code",
      "execution_count": null,
      "metadata": {},
      "outputs": [
        {
          "data": {
            "text/plain": [
              "tensor([[-0.0164,  0.0246, -0.0246,  ...,  0.0164,  0.0779,  0.0574],\n",
              "        [-0.0328,  0.0328, -0.0410,  ..., -0.0533,  0.1393,  0.0082],\n",
              "        [ 0.0082,  0.0328,  0.0123,  ..., -0.0287,  0.0246, -0.0451],\n",
              "        ...,\n",
              "        [-0.0082,  0.0492,  0.0533,  ...,  0.0287,  0.0533, -0.0533],\n",
              "        [-0.0205,  0.0942,  0.0615,  ..., -0.1024,  0.0615,  0.0451],\n",
              "        [ 0.0041, -0.0983,  0.0082,  ..., -0.0164, -0.0492, -0.0082]])"
            ]
          },
          "execution_count": 38,
          "metadata": {},
          "output_type": "execute_result"
        }
      ],
      "source": [
        "(qweights.int_repr().float() - qweights.q_zero_point()) * qweights.q_scale()"
      ]
    },
    {
      "cell_type": "markdown",
      "metadata": {},
      "source": [
        "##### 4.1.2 Weights Distribution"
      ]
    },
    {
      "cell_type": "markdown",
      "metadata": {},
      "source": [
        "The weights are correctly distributed in `int8` buckets:"
      ]
    },
    {
      "cell_type": "code",
      "execution_count": null,
      "metadata": {},
      "outputs": [
        {
          "name": "stdout",
          "output_type": "stream",
          "text": [
            "bert.encoder.layer[0].attention.self.query:\n",
            "Scale: 0.004098, Zero Point: 0\n",
            "Min: -128, Max: 111\n"
          ]
        },
        {
          "data": {
            "image/png": "[encoded data removed]",
            "text/plain": [
              "<Figure size 800x400 with 1 Axes>"
            ]
          },
          "metadata": {},
          "output_type": "display_data"
        }
      ],
      "source": [
        "import torch\n",
        "import matplotlib.pyplot as plt\n",
        "import seaborn as sns\n",
        "\n",
        "def weight_distribution(model, layer_name):\n",
        "    weight = model.bert.encoder.layer[0].attention.self.query.weight()\n",
        "\n",
        "    scale = weight.q_scale()\n",
        "    zero_point = weight.q_zero_point()\n",
        "\n",
        "    int_repr = weight.int_repr()\n",
        "\n",
        "    min_val = int_repr.min().item()\n",
        "    max_val = int_repr.max().item()\n",
        "\n",
        "    print(f\"{layer_name}:\")\n",
        "    print(f\"Scale: {scale:.6f}, Zero Point: {zero_point}\")\n",
        "    print(f\"Min: {min_val}, Max: {max_val}\")\n",
        "\n",
        "    plt.figure(figsize=(8, 4))\n",
        "    sns.histplot(int_repr.flatten().numpy(), bins=256, kde=True)\n",
        "    plt.title(f'Quantized Weights (int8) - {layer_name}')\n",
        "    plt.xlabel('Quantized Weights (int8)')\n",
        "    plt.ylabel('Frequency')\n",
        "    plt.show()\n",
        "\n",
        "weight_distribution(model_ptq_dynamic, \"bert.encoder.layer[0].attention.query\")"
      ]
    },
    {
      "cell_type": "markdown",
      "metadata": {},
      "source": [
        "#### 4.2 Evaluation"
      ]
    },
    {
      "cell_type": "code",
      "execution_count": null,
      "metadata": {
        "id": "dyVe1SKyVkQo"
      },
      "outputs": [
        {
          "name": "stderr",
          "output_type": "stream",
          "text": [
            "/usr/local/python/3.10.13/lib/python3.10/site-packages/transformers/tokenization_utils_base.py:1601: FutureWarning: `clean_up_tokenization_spaces` was not set. It will be set to `True` by default. This behavior will be depracted in transformers v4.45, and will be then set to `False` by default. For more details check this issue: https://github.com/huggingface/transformers/issues/31884\n",
            "  warnings.warn(\n"
          ]
        }
      ],
      "source": [
        "from transformers import AutoTokenizer\n",
        "\n",
        "tokenizer = AutoTokenizer.from_pretrained(model_ckpt)\n",
        "pipe = pipeline(\"text-classification\", model=model_dynamic_quantized, tokenizer=tokenizer)\n",
        "\n",
        "optim_type = \"Dynamic Quantization\"\n",
        "pb = PerformanceBenchmark(pipe, clinc[\"test\"], optim_type=optim_type)\n",
        "perf_metrics.update(pb.run_benchmark())"
      ]
    },
    {
      "cell_type": "markdown",
      "metadata": {},
      "source": [
        "### 6. Results"
      ]
    },
    {
      "cell_type": "code",
      "execution_count": null,
      "metadata": {},
      "outputs": [
        {
          "data": {
            "image/png": "[encoded data removed]",
            "text/plain": [
              "<Figure size 640x480 with 1 Axes>"
            ]
          },
          "metadata": {},
          "output_type": "display_data"
        }
      ],
      "source": [
        "import matplotlib.pyplot as plt\n",
        "import pandas as pd\n",
        "import numpy as np\n",
        "\n",
        "def plot_metrics(perf_metrics, y_min=80, y_max=90, x_padding=20):\n",
        "    df = pd.DataFrame.from_dict(perf_metrics, orient='index')\n",
        "    \n",
        "    fig, ax = plt.subplots()\n",
        "    sizes = np.sqrt(df[\"size_mb\"]) * 25  # Scale sizes for better visibility\n",
        "    \n",
        "    scatter = ax.scatter(df[\"time_avg_ms\"], df[\"accuracy\"] * 100,\n",
        "                         s=sizes, alpha=0.5, c=range(len(df)), cmap='Set3', edgecolors='black', linewidth=0.5)\n",
        "    \n",
        "    # Add labels\n",
        "    for idx, row in df.iterrows():\n",
        "        ax.annotate(idx, (row[\"time_avg_ms\"], row[\"accuracy\"] * 100),\n",
        "                    xytext=(10, 10), textcoords='offset points') \n",
        "    \n",
        "    ax.set_ylim(y_min, y_max)\n",
        "    ax.set_xlim(1, df[\"time_avg_ms\"].max() + x_padding)\n",
        "    ax.set_ylabel(\"Accuracy (%)\")\n",
        "    ax.set_xlabel(\"Average latency (ms)\")\n",
        "    ax.set_title(\"BERT (Quantized) Models: Performance Metrics\")\n",
        "    \n",
        "    plt.tight_layout()\n",
        "    plt.show()\n",
        "\n",
        "plot_metrics(perf_metrics)"
      ]
    },
    {
      "cell_type": "code",
      "execution_count": null,
      "metadata": {},
      "outputs": [
        {
          "data": {
            "text/plain": [
              "{'BERT Baseline': {'size_mb': 418.14690494537354,\n",
              "  'time_avg_ms': np.float64(66.56128514999921),\n",
              "  'time_std_ms': np.float64(7.1043671034855205),\n",
              "  'accuracy': 0.8672727272727273},\n",
              " 'Dynamic Quantization': {'size_mb': 173.18227100372314,\n",
              "  'time_avg_ms': np.float64(22.055510930003948),\n",
              "  'time_std_ms': np.float64(5.500500611905444),\n",
              "  'accuracy': 0.8638181818181818}}"
            ]
          },
          "execution_count": 12,
          "metadata": {},
          "output_type": "execute_result"
        }
      ],
      "source": [
        "perf_metrics"
      ]
    }
  ],
  "metadata": {
    "colab": {
      "authorship_tag": "ABX9TyPChD2YpMJax4NCMvy4qK8J",
      "include_colab_link": true,
      "provenance": []
    },
    "kernelspec": {
      "display_name": "Python 3",
      "name": "python3"
    },
    "language_info": {
      "codemirror_mode": {
        "name": "ipython",
        "version": 3
      },
      "file_extension": ".py",
      "mimetype": "text/x-python",
      "name": "python",
      "nbconvert_exporter": "python",
      "pygments_lexer": "ipython3",
      "version": "3.10.13"
    }
  },
  "nbformat": 4,
  "nbformat_minor": 0
}
