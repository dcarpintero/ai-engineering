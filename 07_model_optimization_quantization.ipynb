{
  "cells": [
    {
      "cell_type": "markdown",
      "metadata": {},
      "source": [
        "## Quantization, Making Models Smaller and Inference Faster"
      ]
    },
    {
      "cell_type": "markdown",
      "metadata": {},
      "source": [
        "Quantization is a technique used in the optimization of large language models (LLMs). It reduces the precision of the model's parameters, effectively shrinking its size and computational requirements, while aiming to maintain its performance. The main approaches to quantization are:\n",
        "\n",
        "- **Post-Training Static Quantization**: Converts model weights to a lower precision (e.g., from 32-bit floating-point to 8-bit integer) before inference. This approach requires a calibration set per dimension to determine optimal quantization parameters, namely scaling-factors and zero-point. It's typically faster but may result in some accuracy loss.\n",
        "- \n",
        "- **Post-Training Dynamic Quantization**: Quantizes weights on-the-fly during inference. Unlike static quantization, this method doesn't require a separate calibration step, making it more flexible in deployment. Although it's slightly slower than static quantization, it often preserves more of the model's original accuracy. \n",
        "- \n",
        "- **Quantization-Aware Training**: Applies additional training to simulate the effects of quantization by rounding float32 values. This allows the model to learn (update the model parameters) to minimize the final loss considering quantization. As a result, it generally achieves the best balance of model size reduction and accuracy preservation. However, it comes with the drawback of requiring a complete retraining of the model (end-to-end forward/backward propagation).\n",
        "\n",
        "In this notebook, we introduce how quantization works specifically for LLMs, demonstrating its practical implementation and benchmarking in terms of model size, latency, and accuracy."
      ]
    },
    {
      "cell_type": "code",
      "execution_count": 1,
      "metadata": {
        "id": "GwAn89l5yvMK"
      },
      "outputs": [
        {
          "name": "stdout",
          "output_type": "stream",
          "text": [
            "Note: you may need to restart the kernel to use updated packages.\n"
          ]
        }
      ],
      "source": [
        "%pip install transformers datasets evaluate --quiet | tail -n 1"
      ]
    },
    {
      "cell_type": "markdown",
      "metadata": {},
      "source": [
        "### 1. Load BERT Transformer Model"
      ]
    },
    {
      "cell_type": "code",
      "execution_count": 2,
      "metadata": {
        "id": "-PC1iVAfy-t2"
      },
      "outputs": [],
      "source": [
        "from transformers import pipeline\n",
        "\n",
        "bert_ckpt = \"transformersbook/bert-base-uncased-finetuned-clinc\"\n",
        "pipe = pipeline(\"text-classification\", model=bert_ckpt)"
      ]
    },
    {
      "cell_type": "code",
      "execution_count": 7,
      "metadata": {
        "colab": {
          "base_uri": "https://localhost:8080/"
        },
        "id": "mAFufxfwzQOl",
        "outputId": "97884679-49dd-4dc5-c72b-502cdb71be2d"
      },
      "outputs": [
        {
          "data": {
            "text/plain": [
              "[{'label': 'book_flight', 'score': 0.5934060215950012}]"
            ]
          },
          "execution_count": 7,
          "metadata": {},
          "output_type": "execute_result"
        }
      ],
      "source": [
        "query = \"\"\"I need to book a flight from New York to Tokyo for next month in economy class\"\"\"\n",
        "pipe(query)"
      ]
    },
    {
      "cell_type": "markdown",
      "metadata": {
        "id": "g1p8BkZYzqk-"
      },
      "source": [
        "### 2. Prepare Performance Benchmark: Size, Latency, and Accuracy"
      ]
    },
    {
      "cell_type": "markdown",
      "metadata": {},
      "source": [
        "In this section, we'll create a benchmark to evaluate a model across three key metrics: model performance, latency, and size. **Model performance** will be assessed using accuracy. **Latency** will be measured as the average time taken to generate responses. And **Model size** will be quantified in terms of the number of parameters and the disk space required for storage. By combining these metrics, we aim at allowing informed comparisons and trade-off analyses between a baseline model before and after quantization."
      ]
    },
    {
      "cell_type": "code",
      "execution_count": 44,
      "metadata": {
        "id": "mNCfADkVzgl-"
      },
      "outputs": [],
      "source": [
        "import evaluate\n",
        "import torch\n",
        "import numpy as np\n",
        "\n",
        "from pathlib import Path\n",
        "from time import perf_counter\n",
        "from typing import Dict, Any\n",
        "\n",
        "class PerformanceBenchmark:\n",
        "    def __init__(self, pipeline, dataset, optim_type=\"BERT Baseline\", num_latency_runs=100, accuracy_sample_size=None):\n",
        "        self.pipeline = pipeline\n",
        "        self.dataset = dataset\n",
        "        self.optim_type = optim_type\n",
        "        self.num_latency_runs = num_latency_runs\n",
        "        self.accuracy_sample_size = accuracy_sample_size\n",
        "\n",
        "    def compute_size(self) -> Dict[str, float]:\n",
        "      \"\"\"Compute the size of the model (MB).\"\"\"\n",
        "      tpm_path = Path(\"temp.p\")\n",
        "      torch.save(self.pipeline.model.state_dict(), tpm_path)\n",
        "      size_mb = Path(tpm_path).stat().st_size / (1024 ** 2)\n",
        "      tpm_path.unlink()\n",
        "      return {\"size_mb\": size_mb}\n",
        "\n",
        "    def compute_latency(self) -> Dict[str, float]:\n",
        "      \"\"\"Compute the average latency of the model.\"\"\"\n",
        "      latencies = [self._inference_time() for _ in range(self.num_latency_runs)]\n",
        "      time_avg_ms = 1000 * np.mean(latencies)\n",
        "      time_std_ms = 1000 * np.std(latencies)\n",
        "      return {\"time_avg_ms\": time_avg_ms, \"time_std_ms\": time_std_ms}\n",
        "\n",
        "    def compute_accuracy(self) -> Dict[str, float]:\n",
        "      \"\"\"Compute the accuracy of the model on the dataset.\"\"\"\n",
        "      accuracy_metric = evaluate.load(\"accuracy\")\n",
        "      intents = self.dataset.features[\"intent\"]\n",
        "        \n",
        "      dataset = self.dataset\n",
        "      if self.accuracy_sample_size:\n",
        "          dataset = self.dataset.select(range(self.accuracy_sample_size))\n",
        "\n",
        "      x = [_[\"text\"] for _ in dataset]\n",
        "      y = [_[\"intent\"] for _ in dataset]\n",
        "\n",
        "      preds = [intents.str2int(self._predict(text)) for text in x]\n",
        "      return accuracy_metric.compute(predictions=preds, references=y)\n",
        "    \n",
        "    def run_benchmark(self):\n",
        "      metrics = {self.optim_type: {}}\n",
        "      metrics[self.optim_type].update(self.compute_size())\n",
        "      metrics[self.optim_type].update(self.compute_latency())\n",
        "      metrics[self.optim_type].update(self.compute_accuracy())\n",
        "      self._print(metrics[self.optim_type])\n",
        "      return metrics\n",
        "\n",
        "    def _inference_time(self) -> float:\n",
        "      t1 = perf_counter()\n",
        "      _ = self.pipeline(self.dataset[42][\"text\"]) # we use always the same sample\n",
        "      t2 = perf_counter()\n",
        "      return t2 - t1\n",
        "\n",
        "    def _predict(self, text: str) -> str:\n",
        "      return self.pipeline(text)[0][\"label\"]\n",
        "    \n",
        "    @staticmethod\n",
        "    def _print(metrics: Dict[str, Any]) -> None:\n",
        "      print(f\"Model size (MB): {metrics['size_mb']:.2f}\")\n",
        "      print(f\"Average latency (ms): {metrics['time_avg_ms']:.2f} ± {metrics['time_std_ms']:.2f}\")\n",
        "      print(f\"Accuracy on test set: {metrics['accuracy']:.3f}\")"
      ]
    },
    {
      "cell_type": "markdown",
      "metadata": {},
      "source": [
        "### 3. Evaluate Model before Quantization"
      ]
    },
    {
      "cell_type": "code",
      "execution_count": 10,
      "metadata": {
        "colab": {
          "base_uri": "https://localhost:8080/"
        },
        "id": "sWG1n0Lh1be9",
        "outputId": "98cef2fb-da37-4b3c-f926-091d7bcace0a"
      },
      "outputs": [
        {
          "data": {
            "text/plain": [
              "{'text': 'transfer $100 from my checking to saving account', 'intent': 133}"
            ]
          },
          "execution_count": 10,
          "metadata": {},
          "output_type": "execute_result"
        }
      ],
      "source": [
        "from datasets import load_dataset\n",
        "\n",
        "clinc = load_dataset(\"clinc_oos\", \"plus\")\n",
        "sample = clinc[\"test\"][42]\n",
        "sample"
      ]
    },
    {
      "cell_type": "code",
      "execution_count": 11,
      "metadata": {
        "colab": {
          "base_uri": "https://localhost:8080/"
        },
        "id": "WvYlkMnt6P0w",
        "outputId": "a0ae7d1d-cb2b-4846-a178-a6422c811e11"
      },
      "outputs": [
        {
          "name": "stdout",
          "output_type": "stream",
          "text": [
            "Model size (MB): 418.08\n",
            "Average latency (ms): 65.75 ± 8.92\n",
            "Accuracy on test set: 0.867\n"
          ]
        }
      ],
      "source": [
        "pb = PerformanceBenchmark(pipe, clinc[\"test\"])\n",
        "perf_metrics = pb.run_benchmark()"
      ]
    },
    {
      "cell_type": "markdown",
      "metadata": {
        "id": "jvR9jp73UOH5"
      },
      "source": [
        "### 4. Dynamic Quantization"
      ]
    },
    {
      "cell_type": "markdown",
      "metadata": {},
      "source": [
        "We call `torch.quantization.quantize_dynamic` on the model to apply dynamic quantization on the HuggingFace BERT model. Specifically, we specify that we want the `torch.nn.Linear` modules in our model to be quantized; and the weights to be converted to quantized `int8` values."
      ]
    },
    {
      "cell_type": "code",
      "execution_count": 12,
      "metadata": {
        "id": "4US3qY6ClCdF"
      },
      "outputs": [],
      "source": [
        "from transformers import AutoConfig, AutoModel, AutoModelForSequenceClassification\n",
        "from torch.quantization import quantize_dynamic\n",
        "\n",
        "model_ckpt = \"transformersbook/bert-base-uncased-finetuned-clinc\"\n",
        "model = AutoModelForSequenceClassification.from_pretrained(model_ckpt).to(\"cpu\")\n",
        "model_dynamic_quantized = quantize_dynamic(\n",
        "    model, qconfig_spec={torch.nn.Linear}, dtype=torch.qint8\n",
        ")"
      ]
    },
    {
      "cell_type": "code",
      "execution_count": 13,
      "metadata": {
        "id": "dyVe1SKyVkQo"
      },
      "outputs": [],
      "source": [
        "from transformers import AutoTokenizer\n",
        "\n",
        "tokenizer = AutoTokenizer.from_pretrained(model_ckpt)\n",
        "pipe = pipeline(\"text-classification\", model=model_dynamic_quantized, tokenizer=tokenizer)"
      ]
    },
    {
      "cell_type": "markdown",
      "metadata": {},
      "source": [
        "### 5. Evaluate Model after Quantization"
      ]
    },
    {
      "cell_type": "code",
      "execution_count": 45,
      "metadata": {
        "colab": {
          "base_uri": "https://localhost:8080/"
        },
        "id": "KvIeFi0MeT-r",
        "outputId": "1005fcf5-5f8e-43b1-8329-8dda55d89814"
      },
      "outputs": [
        {
          "name": "stdout",
          "output_type": "stream",
          "text": [
            "Model size (MB): 173.18\n",
            "Average latency (ms): 20.45 ± 2.73\n",
            "Accuracy on test set: 0.864\n"
          ]
        }
      ],
      "source": [
        "optim_type = \"Dynamic Quantization\"\n",
        "pb = PerformanceBenchmark(pipe, clinc[\"test\"], optim_type=optim_type)\n",
        "perf_metrics.update(pb.run_benchmark())"
      ]
    },
    {
      "cell_type": "code",
      "execution_count": 46,
      "metadata": {},
      "outputs": [
        {
          "data": {
            "image/png": "[encoded data removed]",
            "text/plain": [
              "<Figure size 640x480 with 1 Axes>"
            ]
          },
          "metadata": {},
          "output_type": "display_data"
        }
      ],
      "source": [
        "import matplotlib.pyplot as plt\n",
        "import pandas as pd\n",
        "import numpy as np\n",
        "\n",
        "def plot_metrics(perf_metrics, y_min=80, y_max=90, x_padding=20):\n",
        "    df = pd.DataFrame.from_dict(perf_metrics, orient='index')\n",
        "    \n",
        "    fig, ax = plt.subplots()\n",
        "    sizes = np.sqrt(df[\"size_mb\"]) * 25  # Scale sizes for better visibility\n",
        "    \n",
        "    scatter = ax.scatter(df[\"time_avg_ms\"], df[\"accuracy\"] * 100,\n",
        "                         s=sizes, alpha=0.5, c=range(len(df)), cmap='Set3', edgecolors='black', linewidth=0.5)\n",
        "    \n",
        "    # Add labels\n",
        "    for idx, row in df.iterrows():\n",
        "        ax.annotate(idx, (row[\"time_avg_ms\"], row[\"accuracy\"] * 100),\n",
        "                    xytext=(10, 10), textcoords='offset points') \n",
        "    \n",
        "    ax.set_ylim(y_min, y_max)\n",
        "    ax.set_xlim(1, df[\"time_avg_ms\"].max() + x_padding)\n",
        "    ax.set_ylabel(\"Accuracy (%)\")\n",
        "    ax.set_xlabel(\"Average latency (ms)\")\n",
        "    ax.set_title(\"BERT (Quantized) Models: Performance Metrics\")\n",
        "    \n",
        "    plt.tight_layout()\n",
        "    plt.show()\n",
        "\n",
        "plot_metrics(perf_metrics)"
      ]
    },
    {
      "cell_type": "code",
      "execution_count": 47,
      "metadata": {},
      "outputs": [
        {
          "data": {
            "text/plain": [
              "{'BERT baseline': {'size_mb': 418.0845603942871,\n",
              "  'time_avg_ms': 65.74521105004351,\n",
              "  'time_std_ms': 8.916220711214512,\n",
              "  'accuracy': 0.8672727272727273},\n",
              " 'Quantization': {'size_mb': 173.18227100372314,\n",
              "  'time_avg_ms': 20.446120749975307,\n",
              "  'time_std_ms': 2.7305180840732897,\n",
              "  'accuracy': 0.8638181818181818}}"
            ]
          },
          "execution_count": 47,
          "metadata": {},
          "output_type": "execute_result"
        }
      ],
      "source": [
        "perf_metrics"
      ]
    }
  ],
  "metadata": {
    "colab": {
      "authorship_tag": "ABX9TyPChD2YpMJax4NCMvy4qK8J",
      "include_colab_link": true,
      "provenance": []
    },
    "kernelspec": {
      "display_name": "Python 3",
      "name": "python3"
    },
    "language_info": {
      "codemirror_mode": {
        "name": "ipython",
        "version": 3
      },
      "file_extension": ".py",
      "mimetype": "text/x-python",
      "name": "python",
      "nbconvert_exporter": "python",
      "pygments_lexer": "ipython3",
      "version": "3.10.13"
    }
  },
  "nbformat": 4,
  "nbformat_minor": 0
}
